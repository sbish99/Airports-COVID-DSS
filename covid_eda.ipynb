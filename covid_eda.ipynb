{
 "cells": [
  {
   "cell_type": "code",
   "execution_count": 26,
   "metadata": {},
   "outputs": [],
   "source": [
    "import pandas as pd\n"
   ]
  },
  {
   "cell_type": "code",
   "execution_count": 44,
   "metadata": {},
   "outputs": [],
   "source": [
    "covid_testing_data = pd.read_csv('Data/covid-testing-all-observations.csv')\n",
    "covid_hospitalisations_data = pd.read_csv('Data/covid-hospitalizations.csv')\n",
    "covid_full_data = pd.read_csv('Data/full_data.csv')\n",
    "covid_full_data.head()\n",
    "# covid_testing_data.head(10)\n",
    "covid_full_data['date'] = pd.to_datetime(covid_full_data['date'])\n",
    "# covid_data.head()\n",
    "# covid_data.tail(100)\n",
    "# type(covid_full_data.iloc[0][0])\n",
    "# print(covid_full_data.iloc[0][0])\n",
    "# covid_data['Date'].iloc[1].dtype\n",
    "start_date = pd.to_datetime('2020-01-01')\n",
    "# type(start_date)\n",
    "end_date = pd.to_datetime('2020-06-30')\n",
    "\n",
    "covid_data_2020 = covid_full_data[(covid_full_data['date'] >= start_date) & (covid_full_data['date'] <= end_date )]\n",
    "covid_data_2020.to_csv('covid_full_data_2020.csv', index = False)\n"
   ]
  }
 ],
 "metadata": {
  "kernelspec": {
   "display_name": "Python 3",
   "language": "python",
   "name": "python3"
  },
  "language_info": {
   "codemirror_mode": {
    "name": "ipython",
    "version": 3
   },
   "file_extension": ".py",
   "mimetype": "text/x-python",
   "name": "python",
   "nbconvert_exporter": "python",
   "pygments_lexer": "ipython3",
   "version": "3.12.0"
  }
 },
 "nbformat": 4,
 "nbformat_minor": 2
}
